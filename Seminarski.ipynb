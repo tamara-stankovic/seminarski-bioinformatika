{
 "cells": [
  {
   "cell_type": "markdown",
   "metadata": {},
   "source": [
    "# Pregled alata za poravnanje"
   ]
  },
  {
   "cell_type": "code",
   "execution_count": 41,
   "metadata": {
    "collapsed": false
   },
   "outputs": [
    {
     "data": {
      "text/html": [
       "<script>\n",
       "code_show=true; \n",
       "function code_toggle() {\n",
       " if (code_show){\n",
       " $('div.input').hide();\n",
       " } else {\n",
       " $('div.input').show();\n",
       " }\n",
       " code_show = !code_show\n",
       "} \n",
       "$( document ).ready(code_toggle);\n",
       "</script>\n",
       "<form action=\"javascript:code_toggle()\"><input type=\"submit\" value=\"Sakrij/Prikaži kod.\"></form>"
      ],
      "text/plain": [
       "<IPython.core.display.HTML object>"
      ]
     },
     "execution_count": 41,
     "metadata": {},
     "output_type": "execute_result"
    }
   ],
   "source": [
    "from IPython.display import HTML\n",
    "\n",
    "HTML('''<script>\n",
    "code_show=true; \n",
    "function code_toggle() {\n",
    " if (code_show){\n",
    " $('div.input').hide();\n",
    " } else {\n",
    " $('div.input').show();\n",
    " }\n",
    " code_show = !code_show\n",
    "} \n",
    "$( document ).ready(code_toggle);\n",
    "</script>\n",
    "<form action=\"javascript:code_toggle()\"><input type=\"submit\" value=\"Sakrij/Prikaži kod.\"></form>''')"
   ]
  },
  {
   "cell_type": "markdown",
   "metadata": {},
   "source": [
    "# Sadržaj\n",
    "\n",
    "1. [Uvod](#Uvod)\n",
    "2. [Metodi](#Metodi)\n",
    "3. [TopHat2](#TopHat2)\n",
    "4. [STAR](#STAR)\n",
    "5. [Poređenje rezultata](#Poređenje-rezultata)\n",
    "6. [Zaključak](#Zaključak)\n",
    "7. [Reference](#Reference)\n"
   ]
  },
  {
   "cell_type": "markdown",
   "metadata": {},
   "source": [
    "## Uvod\n",
    "\n",
    "Osnovni cilj RNK (ribonukleinska kiselina) sekvenciranja jeste karakterizacija transkriptoma. Transkriptom predstavlja kompletan set transkripata u ćeliji  kao i njihov kvantitet za specifični razvojni stadijum ili fiziološko stanje. Razumevanje transkriptoma je esencijalno za interpretiranje funkcionalnih elemenata genoma i otkrivanje molekularnih komponenata ćelija i tkiva, kao i za razumevanje bolesti. Transkriptomika služi pobrojavanju svih vrsta transkripata uključujući informacione RNK, nekodirajuće RNK i male regulatorne RNK kao i definisanje transkripcione structure gena u smislu njihovih startova transkripcije, 5’ i 3’ krajeva, postranskripcionih modifikacija kao i kvantifikacija promene nivoa ekspresije svakog transkripta tokom razvoja i pod različitim uslovima. [[1]](#ref1)\n",
    "\n",
    "<i>Slika 1:</i>\n",
    "___\n",
    "\n",
    "<br>\n",
    "<img src=\"img/rna_seq.png\" alt=\"Drawing\" style=\"width: 750px;\"/>\n",
    "</br>\n",
    "\n",
    "___\n",
    "\n",
    "Na slici 1. [[1]](#ref1) je prikazan tok \"RNA seq\" eksperimenta. U prvom koraku se vrši razaranje ćelije u prisustvu deterdženata ili haotropnih agenasa. Zavisno od početnog materijala može se primeniti i metoda mehaničkog razaranja kako bi se u potpunosti razorili ćelijski zidovi, ćelijske membrane i organele. Molekule RNK su labilnije strukture od  DNK i onog trenutka kada se izvrši disekcija tkiva ćelije počinu da odumiru a RNK se degradira. Stoga se mora voditi računa o ograničenju  stepena degradacije obzirom na to da je krajnji cilj eksperimenta karakterizacija transkriptoma. Potom se vrši izolacija i prečišćavanje RNK. Osnovni cilj izolacije jeste da se odvoje RNK molekule od ostalog ćelijskog materijala kao i da se očuva integritet ekstrahovanih RNK molekula. Velika hemijska sličnost između DNK i RNK kao i činjenica da su  enzimi ribonukleaze izrazito stabilne čak i pri uslovima pod kojima drugi proteini denaturišu ometaju postizanje ovog cilja. Izolacija iz ćelijskog lizata se vrši ekstrakcijom organskim rastvaračem ili ekstrakcijom na čvrstoj fazi. Potom sledi obogaćivanje ukupne RNK informacionom RNK. Ovo se postiže direktnim odabiranjem infornmacione RNK ili selektivnim uklanjanjem ribozomalne RNK. Ukupna RNK sadrži preko 80% ribozomalne RNK. Ukoliko se ona ne ukloni najveći deo očitanja će poticati upravo od ovog tipa RNK. U većinu protokola je inkorporiran i korak u kome se vrši  fragmentcija kako bi se poboljšala prekrivenost transkriptoma. Fragmentacija se može izvesti nad populacijom RNK ili nad oformljenom komplementarnom DNK.   Populacija RNK (ukupna ili frakcionisana) se prevodi u biblioteku komplementarnih DNK fragmenata sa adpterima dodatim na jednom ili oba kraja. Svaki molekul sa ili bez umnožavanja se sekvencira kako bi se dobile kratke sekvence sa jednog ili oba kraja. Očitanja su tipično dugačka 30-400 baznih parova u zavisnosti od tehnologije sekvenciranja koja se koristi. Tri najzastuplenije metode  sekvenciranja su :\n",
    "\n",
    "1. \"Roche 454\" : U svom radu koristi tehnologiju pirosekvenciranja. Princip se zasniva na oslobađanju pirofosfata kada se nukleotid inkorporira u rastući DNK lanac. Oslobođeni pirofosfat se detektuje tokom enzimske reakcije u kojoj ATP (adenozintrifosfat)-sulfurilaza prevodi  adenozin-5fosfosulfat (APS) u ATP što omogućava drugom enzimu, luciferazi , da reaguje sa supstratom-luciferinom, generišući pritom vidljivu svetlost. Pirofosfat će biti generisan samo ako je reakcija DNK sinteze snabdevena adekvatnim deoksinukleotid trifosfatom (dNTP). [[2]](#ref2)\n",
    "\n",
    "2. \"Ilumina\" : Metoda se zasniva na sekvenciranju sintezom. Prvo se DNK nasumično fragmentiše i adapteri se dodaju na krajeve fragmenata. Kratki fragmenti se denaturišu i individualno prikače na protočnu ćeliju veoma velike gustine. Protočna ćelija je prekrivena sa dve vrste jednolančanih oligonukleotida od kojih je svaki komplementaran jednom lancu fragmenata adaptera. Ovi oligonukleotidi služe i kao mesta vezivanja i kao prajmeri za DNK sintezu. U prvom krugu se dobija DNK lanac kovalentno vezan za substrat koji je komplementaran punoj dužini inicijalnog fragmenta uključujući  i distalni fragment. Svaki slobodni kraj DNK fragmenta se savija i veže za komplementarni oligonukleotid koji služi kao prajmer za DNK sintezu. Ovaj postupak se ponavlja mnogo puta i svaki originalni fragment se amplifikuje u vidu klastera koji ima nekoliko hiljada identičnih jednolančanih kopija istih orjentacija. Kroz protočnu ćeliju se propuste prajmeri koji se vezuju za slobodan kraj svakog fragmenta. U svakom krugu sekvenciranja dodaje se i mešavina četiri deoksinukleotida od kojih je svaki vezan za fluoroforu sa jedinstvenim emisionim spektrom. Kada god se nukleotid koji je komplementaran prvoj bazi u klasteru doda na rastući DNK lanac neinkorporirani nukleotid se ispere. Ovo rezultuje fluorescencijom takve talasne dužine koja ukazuje na to koja se baza inkorporirala i ovo se dešava paralelno u svakom od klastera na protočnij ćeliji. Deoksinukleotidi su blokirani na 3’ pozicijama kako bi se obezbedilo inkorporiranje jedne po jedne baze. Kada se rezultati jednom snime uklanja se blokada, proba se oslobađa i proces se ponavlja kako bi se očitala sledeća baza u sekvenci. Kompjuter onda grupiše sekvencu svakog klastera analizom serije slika. [[2]](#ref2)\n",
    "\n",
    "3. \"SOLiD\" : Ovaj metod je baziran na sekvenciranju ligacijom. Ligacija predstavlaj povezivanje dva lanca DNK ili drugih molekula fosfodiestarskom vezom. U prvom koraku se formira biblioteka  DNK fragmenata. Nakon ligacije adaptera svaki fragment se imobiliše na kuglicu. Kuglice su kovalentno vezane za staklenu ploču. Univerzalni prajmeri se dodaju na krajeve DNK fragmenata. Ploča je potopljena u mešavinu kratkih oligonukleotida i DNK ligaze. Svaki oligonukleotid se završava različitim parom baza i samo probe koje se završavaju adekvatnim dinukleotidom će moći da se povežu na prajmer. Svaka proba je obeležena fluorescentnom probom koja emituje svetlost karakteristične talasne dužine a aparat je sposoban da detektuje koja se od proba povezala. [[2]](#ref2)\n",
    "\n",
    "Nakon sekvenciranja dobijena očitanja se poravnavaju na referentni genom ili referentne transkripte ili se grupišu de-novo bez genomske sekvence kako bi se dobile transkripcione mape koje sadrže transkripcionu strukturu i/ili nivo ekspresije svakog gena. RNK sekvenciranje nije ograničeno na detektovanje transkripta koji odgovaraju postojećim genomskim sekvencama i stoga je posebno privlačno za  primenu na organizme čija genomska sekvenca još uvek nije određena. Ovom metodom se može otkriti precizna lokacija granica transkripcije. Očitanja dužine tridesetak baznih parova daju informaciju tome kako su  dva egzona povezana dok duža očitanja pružaju uvid u  povezanost više egzona. Dodatno se mogu detektovati i varijacije sekvenci u transkribovanim regionima (npr. \"SNP-single nucleotide polymorphism\").\n",
    "\n",
    "U nastavku ćemo se fokusirati na metode koje poravnavaju sekvence  očitanja na referentni genom tražeći potencijalno mesto mapiranja takvo da se tačno podudara  ili  na osnovu rangiranja  sličnosti sekvence. Mapirane lokacije ukazuju na  mesto porekla transkripta i broj očitanja koji potiče iz datog transkripta daje informaciju o količini transkripta koja je prisutna u uzorku. Ukratko će biti opisane četiri kategorije metoda koje mapiranja vrše nad referentnim genomom.  Alati za poravnanje RNA očitanja   se dele na one koji poravnavaju  očitanja na  genom bez praznina, odnosno delova koji se preskaču (engl.\" Unspliced read aligners\") i na one koji poravnavaju sa prazninama ( engl. \"Spliced read aligners\"). \"Unspliced\" alati se obično dele u dve  grupe prema metodologiji kojom se koriste: \n",
    "1. Alati temeljeni na Burrows-Wheeler transformaciji ( npr. \"Bowtie2\" )se zasnivaju na izgradnji indeksa nad referentnim genomom koji omogućava učinkovitu pretragu uz relativno male memorijske zahteve. Ovi alati mutiraju očitanja na sve moguće načine kako bi se dobio niz  koji odgovara onom u referentnom genomu.\n",
    "2.Alati temeljeni na metodi \"ključa\" ( npr. \"Stampy\") poravnavaju kratke subsekvence ili \"ključeve\" iz svakog očitanja na referentni genom.\n",
    "\"Spliced\" alati mogu poravnati i očitanja koja premošćavaju introne. Ovakva očitanja se dele na manje segmente i najbolji pogodak se određuje na osnovu skorova poravnanja i poznatih signala prekrajanja. Po metodologiji se dele u dve grupe:\n",
    "1. “Exon-first” metod  koji prvo mapira cela očitanja na referentni genom koristeći  alat koji poravnava bez praznina a onda pomoću preostalih očitanja traži prekrojena poravnanja. \n",
    "2. “Seed and extend” metod deli očitanja na manje segmente koje potom mapira na genom. Ponovljenim spajanjem i produžavanjem  inicijalnih segmenata se traže ponovljena prekrajanja.  [[3]](#ref3)\n",
    "\n",
    "\n",
    "Algoritmi za poravnanje se suočavaju sa dva problema. Prvo što je posebno zanimljivo za poravnanje RNK  očitanja jeste prekrajanje kod eukariotskih organizama.  Informaciona RNK molekula je pre prekrajanja sačinjena od egzona i introna. One regije koje grade zrelu  informacionu RNK nakon  prekrajanja zovu se egzoni. Prilikom procesa prekrajanja ne moraju se nužno spojiti svi egzoni već samo neki podskup što se onda naziva alternativno prekrajanje. Očitanja sekvencirana iz zrelih informacionih RNK ne sadrže introne tako da programi za poravnanja moraju biti sposobni da prevaziđu problem sa prazninama koje mogu biti jako duge (50-100000 baznih parova). Drugi problem predstavlja prisustvo pseudogena čija je sekvenca jako slična funkcionalnim genima. Stoga očitanja mogu biti perfektno mapirana na pseudo verziju funkcionalnog gena.  \n",
    "\n",
    "\n",
    "<i>Slika 2:</i>  [[4]](#ref4)\n",
    "___\n",
    "<br>\n",
    "<img src=\"img/tophat2.png\" alt=\"Drawing\" style=\"width: 750px;\"/>\n",
    "</br>\n",
    "___\n",
    "\n",
    "Ova dva problema mogu uzrokovati dva moguća netačna poravnanja koja su prestavljena na Slici 2. : 1. Očitanje koje je produženo par baza u susedni egzom može biti greškom poravnato na intron umesto na egzon 2. Očitanje koje obuhvata više egzona a koji potiču od gena sa procesiranim kopijama pseudogena  mogu biti poravnata na kopije pseudogena umesto na gene sa kojih zapravo vode poreklo.  \n"
   ]
  },
  {
   "cell_type": "markdown",
   "metadata": {},
   "source": [
    "## Metodi\n",
    "\n",
    "Alati su testirani na simuluranim očitanjima. Osnova simulacije je dvadeseti hromozom ljudskog genoma (hg38). Najpre eliminišemo nekodirajuće segmente na osnovu GTF fajla. Zatim se ostatak spaja u jedinstvenu sekvencu, što omogućava generisanje očitanja koja se prostiru na više egzona. Na osnovu dužine egzona određujemo verovatnoću da simulirana sekvenca dođe iz konkretnog gena koristeći uniformnu raspodelu. \n",
    "Najzad, zadajemo verovatnoću umetanja/brisanja i dužinu istog. U ovom slučaju generišemo sekvence dužine 100 nukleotida, sa umetanjima/brisanjima koja imaju dužinu između 5 i 10 nukleotida. Uzorak se sastoji od 100000 očitanja.\n"
   ]
  },
  {
   "cell_type": "code",
   "execution_count": 1,
   "metadata": {
    "collapsed": false
   },
   "outputs": [],
   "source": [
    "%load_ext autoreload\n",
    "%autoreload 2\n",
    "\n",
    "from src.extract_exons import load_data\n",
    "import matplotlib.pyplot as plt\n",
    "import pandas as pd\n",
    "\n",
    "\n",
    "%matplotlib inline\n",
    "plt.style.use('ggplot')"
   ]
  },
  {
   "cell_type": "markdown",
   "metadata": {},
   "source": [
    "<i>Tabela 1.<i/>\n",
    "\n",
    "Deo GTF fajla korišćenog u simulaciji."
   ]
  },
  {
   "cell_type": "code",
   "execution_count": 2,
   "metadata": {
    "collapsed": false
   },
   "outputs": [
    {
     "name": "stdout",
     "output_type": "stream",
     "text": [
      "     start     end            gene_id\n",
      "1    68351   68408  gene_id \"DEFB125\"\n",
      "4    76646   77296  gene_id \"DEFB125\"\n",
      "6   123252  123327  gene_id \"DEFB126\"\n",
      "10  126056  126392  gene_id \"DEFB126\"\n",
      "13  138186  138234  gene_id \"DEFB127\"\n",
      "16  139415  139804  gene_id \"DEFB127\"\n",
      "18  168527  168759  gene_id \"DEFB128\"\n",
      "22  170216  170264  gene_id \"DEFB128\"\n",
      "24  207899  207987  gene_id \"DEFB129\"\n",
      "28  209919  210527  gene_id \"DEFB129\"\n",
      "\n",
      "\n"
     ]
    }
   ],
   "source": [
    "(exon, ch20) = load_data()\n",
    "print(exon[['start', 'end', 'gene_id']].head(10))\n",
    "print('\\n')\n"
   ]
  },
  {
   "cell_type": "code",
   "execution_count": 3,
   "metadata": {
    "collapsed": true
   },
   "outputs": [],
   "source": [
    "from src.generate_simulated_reads import cut_ref_genome\n",
    "from src.utilities import * "
   ]
  },
  {
   "cell_type": "code",
   "execution_count": 4,
   "metadata": {
    "collapsed": true
   },
   "outputs": [],
   "source": [
    "(seq, index_list) = cut_ref_genome(ch20, exon)\n",
    "sample = generateSample(100000, 0.01, 0.5, index_list, seq)\n",
    "generateFasta(sample, 'simulated_data/simulated_reads.fa')\n"
   ]
  },
  {
   "cell_type": "markdown",
   "metadata": {},
   "source": [
    "## TopHat2"
   ]
  },
  {
   "cell_type": "markdown",
   "metadata": {},
   "source": [
    "\"TopHat2\" kao ulaznu informaciju prima RNK sekvence očitanja i proces počinje njihovim mapiranjem naspram transkriptoma ukoliko je obezbedjen fajl sa anotacijama. Mapiranje na transkriptom poboljšava osetljivost i tačnost celokupnog procasa a sa druge strane ga i ubrzava obzirom na manju veličinu transkriptoma u odnosu na genom. Ovaj korak  međutim nije obavezan. Nakon ovog koraka deo očitanja ostaje nemapiran zato što vodi poreklo iz nepoznatih transkripata, odnosno transkripata koji nisu sadržani u fajlu sa anotacijama ili zato što imaju puno pogrešno adresiranih baza. Dodatno može biti i slabo poravnatih očitanaja koja su mapirana na pogrešnu lokaciju. \"TopHat2\" zatim poravnava nemapirana ili loše mapirana očitanja naspram genoma. Sva očitanja sadržana u genomu biće mapirana dok ona koja se preklapaju sa intronima možda neće biti. \"TopHat2\" koristi nemapirana očitanja iz drugog koraka i pokušava da nađe nova mesta prekrajanja koja su bazirana na poznatim graničnim signalima ( GT-AG, GC-AG I AT-AC ). Moguće je i ponovljeno mapiranje već mapiranih očitanja u zavisnosti od korekcione udaljenosti tih očitanja.  Udaljenost u ovom kontekstu predstavlja broj operacija potrebnih za transformisanje jedne sekvence u drugu. Tako da će se ona očitanja čija je udaljenost veća ili jednaka od praga samtrati  nemapiranim. Kako bi se ovo postiglo nemapirana očitanja kao i ona koja su poravnata sa niskim skorom se dele na manje nepreklapajuće segmente ( dužine 25 baznih parova ) koji se potom poravnavaju naspram genoma. \"TopHat2\" ispituje bilo koji slučaj u kome se levi i desni segmenti istog očitanja mapiraju unutar definisane maksimalne veličine introna (50-100000 baznih parova). Jednom kada identifikuje obrazac \"TopHat2\" ponovo poravnava čitavu sekvencu očitanja na  taj region u genomu kako bi pronašao najbolju lokaciju mesta prekrajanja. U  ovom koraku se pronalaze i mesta umetanja/brisanja ( zajedno se nazivaju \"indel\") kao i mesta spajanja. Genomske sekvence koje oivičavaju ova mesta prekrajanja se grupišu i dobijene sekvence se sakupljaju kao set potencijalnih  fragmenata transkripta. Bilo koje očitanje koje nije ili je slabo mapirano u prethodnim fazama se ponovo poravnava pomoću \"Bowtie2\"  naspram novog transkriptoma. Nakon ovih koraka moze se desiti da neka očitanja ne budu tačno poravnata  jer poravnanja egzona za par baza prelaze u intergenski region. \"TopHat2\" proverava da li ovakva poravnanja prelaze u intergenske regione definisane tokom faze u kojoj je vršeno poravnanje segmenata očitanja.Ukoliko to jeste slučaj ponovo se poravnavaju očitanja na susedne egzone.\n",
    "\n",
    "U finalnoj fazi se očitanja dele na one sa jedinstvenim poravnanjem i one sa više poravnanja. Za očitanja koja su više puta mapirana \"TopHat2\" sakuplja statističke podatke o relevantnim granicama prekrajanja, umetanjima i brisanjima koja koristi da ponovo preračuna skor poravnanja za svako očitanja. Na osnovu novih skorova procenjuje najverovatniju lokaciju ovih više puta mapiranih očitanja. [[4]](#ref4)\n",
    "\n",
    "<i>Slika 3:</i>  [[4]](#ref4)\n",
    "___\n",
    "​\n",
    "<br>\n",
    "<img src=\"img/readovi.png\" alt=\"Drawing\" style=\"width: 750px;\"/>\n",
    "</br>\n",
    "​\n",
    "___"
   ]
  },
  {
   "cell_type": "code",
   "execution_count": 5,
   "metadata": {
    "collapsed": false,
    "scrolled": true
   },
   "outputs": [
    {
     "name": "stdout",
     "output_type": "stream",
     "text": [
      "Settings:\n",
      "  Output files: \"data/tophat_index/index.*.bt2\"\n",
      "  Line rate: 6 (line is 64 bytes)\n",
      "  Lines per side: 1 (side is 64 bytes)\n",
      "  Offset rate: 4 (one in 16)\n",
      "  FTable chars: 10\n",
      "  Strings: unpacked\n",
      "  Max bucket size: default\n",
      "  Max bucket size, sqrt multiplier: default\n",
      "  Max bucket size, len divisor: 4\n",
      "  Difference-cover sample period: 1024\n",
      "  Endianness: little\n",
      "  Actual local endianness: little\n",
      "  Sanity checking: disabled\n",
      "  Assertions: disabled\n",
      "  Random seed: 0\n",
      "  Sizeofs: void*:8, int:4, long:8, size_t:8\n",
      "Input files DNA, FASTA:\n",
      "  data/chr20.fa\n",
      "Building a SMALL index\n",
      "Reading reference sizes\n",
      "  Time reading reference sizes: 00:00:01\n",
      "Calculating joined length\n",
      "Writing header\n",
      "Reserving space for joined string\n",
      "Joining reference sequences\n",
      "  Time to join reference sequences: 00:00:01\n",
      "bmax according to bmaxDivN setting: 14876380\n",
      "Using parameters --bmax 11157285 --dcv 1024\n",
      "  Doing ahead-of-time memory usage test\n",
      "  Passed!  Constructing with these parameters: --bmax 11157285 --dcv 1024\n",
      "Constructing suffix-array element generator\n",
      "Building DifferenceCoverSample\n",
      "  Building sPrime\n",
      "  Building sPrimeOrder\n",
      "  V-Sorting samples\n",
      "  V-Sorting samples time: 00:00:01\n",
      "  Allocating rank array\n",
      "  Ranking v-sort output\n",
      "  Ranking v-sort output time: 00:00:01\n",
      "  Invoking Larsson-Sadakane on ranks\n",
      "  Invoking Larsson-Sadakane on ranks time: 00:00:00\n",
      "  Sanity-checking and returning\n",
      "Building samples\n",
      "Reserving space for 12 sample suffixes\n",
      "Generating random suffixes\n",
      "QSorting 12 sample offsets, eliminating duplicates\n",
      "QSorting sample offsets, eliminating duplicates time: 00:00:00\n",
      "Multikey QSorting 12 samples\n",
      "  (Using difference cover)\n",
      "  Multikey QSorting samples time: 00:00:00\n",
      "Calculating bucket sizes\n",
      "Splitting and merging\n",
      "  Splitting and merging time: 00:00:00\n",
      "Avg bucket size: 5.95055e+07 (target: 11157284)\n",
      "Converting suffix-array elements to index image\n",
      "Allocating ftab, absorbFtab\n",
      "Entering Ebwt loop\n",
      "Getting block 1 of 1\n",
      "  No samples; assembling all-inclusive block\n",
      "  Sorting block of length 59505520 for bucket 1\n",
      "  (Using difference cover)\n",
      "  Sorting block time: 00:00:27\n",
      "Returning block of 59505521 for bucket 1\n",
      "Exited Ebwt loop\n",
      "fchr[A]: 0\n",
      "fchr[C]: 16523053\n",
      "fchr[G]: 29630881\n",
      "fchr[T]: 42780293\n",
      "fchr[$]: 59505520\n",
      "Exiting Ebwt::buildToDisk()\n",
      "Returning from initFromVector\n",
      "Wrote 24029731 bytes to primary EBWT file: data/tophat_index/index.1.bt2\n",
      "Wrote 14876388 bytes to secondary EBWT file: data/tophat_index/index.2.bt2\n",
      "Re-opening _in1 and _in2 as input streams\n",
      "Returning from Ebwt constructor\n",
      "Headers:\n",
      "    len: 59505520\n",
      "    bwtLen: 59505521\n",
      "    sz: 14876380\n",
      "    bwtSz: 14876381\n",
      "    lineRate: 6\n",
      "    offRate: 4\n",
      "    offMask: 0xfffffff0\n",
      "    ftabChars: 10\n",
      "    eftabLen: 20\n",
      "    eftabSz: 80\n",
      "    ftabLen: 1048577\n",
      "    ftabSz: 4194308\n",
      "    offsLen: 3719096\n",
      "    offsSz: 14876384\n",
      "    lineSz: 64\n",
      "    sideSz: 64\n",
      "    sideBwtSz: 48\n",
      "    sideBwtLen: 192\n",
      "    numSides: 309925\n",
      "    numLines: 309925\n",
      "    ebwtTotLen: 19835200\n",
      "    ebwtTotSz: 19835200\n",
      "    color: 0\n",
      "    reverse: 0\n",
      "Total time for call to driver() for forward index: 00:00:38\n",
      "Reading reference sizes\n",
      "  Time reading reference sizes: 00:00:01\n",
      "Calculating joined length\n",
      "Writing header\n",
      "Reserving space for joined string\n",
      "Joining reference sequences\n",
      "  Time to join reference sequences: 00:00:01\n",
      "  Time to reverse reference sequence: 00:00:00\n",
      "bmax according to bmaxDivN setting: 14876380\n",
      "Using parameters --bmax 11157285 --dcv 1024\n",
      "  Doing ahead-of-time memory usage test\n",
      "  Passed!  Constructing with these parameters: --bmax 11157285 --dcv 1024\n",
      "Constructing suffix-array element generator\n",
      "Building DifferenceCoverSample\n",
      "  Building sPrime\n",
      "  Building sPrimeOrder\n",
      "  V-Sorting samples\n",
      "  V-Sorting samples time: 00:00:01\n",
      "  Allocating rank array\n",
      "  Ranking v-sort output\n",
      "  Ranking v-sort output time: 00:00:01\n",
      "  Invoking Larsson-Sadakane on ranks\n",
      "  Invoking Larsson-Sadakane on ranks time: 00:00:00\n",
      "  Sanity-checking and returning\n",
      "Building samples\n",
      "Reserving space for 12 sample suffixes\n",
      "Generating random suffixes\n",
      "QSorting 12 sample offsets, eliminating duplicates\n",
      "QSorting sample offsets, eliminating duplicates time: 00:00:00\n",
      "Multikey QSorting 12 samples\n",
      "  (Using difference cover)\n",
      "  Multikey QSorting samples time: 00:00:00\n",
      "Calculating bucket sizes\n",
      "Splitting and merging\n",
      "  Splitting and merging time: 00:00:00\n",
      "Avg bucket size: 5.95055e+07 (target: 11157284)\n",
      "Converting suffix-array elements to index image\n",
      "Allocating ftab, absorbFtab\n",
      "Entering Ebwt loop\n",
      "Getting block 1 of 1\n",
      "  No samples; assembling all-inclusive block\n",
      "  Sorting block of length 59505520 for bucket 1\n",
      "  (Using difference cover)\n",
      "  Sorting block time: 00:00:26\n",
      "Returning block of 59505521 for bucket 1\n",
      "Exited Ebwt loop\n",
      "fchr[A]: 0\n",
      "fchr[C]: 16523053\n",
      "fchr[G]: 29630881\n",
      "fchr[T]: 42780293\n",
      "fchr[$]: 59505520\n",
      "Exiting Ebwt::buildToDisk()\n",
      "Returning from initFromVector\n",
      "Wrote 24029731 bytes to primary EBWT file: data/tophat_index/index.rev.1.bt2\n",
      "Wrote 14876388 bytes to secondary EBWT file: data/tophat_index/index.rev.2.bt2\n",
      "Re-opening _in1 and _in2 as input streams\n",
      "Returning from Ebwt constructor\n",
      "Headers:\n",
      "    len: 59505520\n",
      "    bwtLen: 59505521\n",
      "    sz: 14876380\n",
      "    bwtSz: 14876381\n",
      "    lineRate: 6\n",
      "    offRate: 4\n",
      "    offMask: 0xfffffff0\n",
      "    ftabChars: 10\n",
      "    eftabLen: 20\n",
      "    eftabSz: 80\n",
      "    ftabLen: 1048577\n",
      "    ftabSz: 4194308\n",
      "    offsLen: 3719096\n",
      "    offsSz: 14876384\n",
      "    lineSz: 64\n",
      "    sideSz: 64\n",
      "    sideBwtSz: 48\n",
      "    sideBwtLen: 192\n",
      "    numSides: 309925\n",
      "    numLines: 309925\n",
      "    ebwtTotLen: 19835200\n",
      "    ebwtTotSz: 19835200\n",
      "    color: 0\n",
      "    reverse: 1\n",
      "Total time for backward call to driver() for mirror index: 00:00:37\n"
     ]
    }
   ],
   "source": [
    "! bowtie2-build data/chr20.fa data/tophat_index/index"
   ]
  },
  {
   "cell_type": "code",
   "execution_count": 6,
   "metadata": {
    "collapsed": false
   },
   "outputs": [
    {
     "name": "stdout",
     "output_type": "stream",
     "text": [
      "\n",
      "[2016-11-01 07:13:34] Beginning TopHat run (v2.1.1)\n",
      "-----------------------------------------------\n",
      "[2016-11-01 07:13:34] Checking for Bowtie\n",
      "\t\t  Bowtie version:\t 2.2.9.0\n",
      "[2016-11-01 07:13:34] Checking for Bowtie index files (genome)..\n",
      "[2016-11-01 07:13:34] Checking for reference FASTA file\n",
      "\tWarning: Could not find FASTA file data/tophat_index/index.fa\n",
      "[2016-11-01 07:13:34] Reconstituting reference FASTA file from Bowtie index\n",
      "  Executing: /usr/local/bin/bowtie2-inspect data/tophat_index/index > output/tophat/tmp/index.fa\n",
      "[2016-11-01 07:13:44] Generating SAM header for data/tophat_index/index\n",
      "[2016-11-01 07:13:44] Preparing reads\n",
      "\t left reads: min. length=90, max. length=151, 100000 kept reads (0 discarded)\n",
      "[2016-11-01 07:13:47] Mapping left_kept_reads to genome index with Bowtie2 \n",
      "[2016-11-01 07:14:31] Mapping left_kept_reads_seg1 to genome index with Bowtie2 (1/6)\n",
      "[2016-11-01 07:14:33] Mapping left_kept_reads_seg2 to genome index with Bowtie2 (2/6)\n",
      "[2016-11-01 07:14:36] Mapping left_kept_reads_seg3 to genome index with Bowtie2 (3/6)\n",
      "[2016-11-01 07:14:38] Mapping left_kept_reads_seg4 to genome index with Bowtie2 (4/6)\n",
      "[2016-11-01 07:14:41] Mapping left_kept_reads_seg5 to genome index with Bowtie2 (5/6)\n",
      "[2016-11-01 07:14:43] Mapping left_kept_reads_seg6 to genome index with Bowtie2 (6/6)\n",
      "[2016-11-01 07:14:47] Searching for junctions via segment mapping\n",
      "[2016-11-01 07:14:56] Retrieving sequences for splices\n",
      "[2016-11-01 07:14:59] Indexing splices\n",
      "Building a SMALL index\n",
      "[2016-11-01 07:15:00] Mapping left_kept_reads_seg1 to genome segment_juncs with Bowtie2 (1/6)\n",
      "[2016-11-01 07:15:01] Mapping left_kept_reads_seg2 to genome segment_juncs with Bowtie2 (2/6)\n",
      "[2016-11-01 07:15:02] Mapping left_kept_reads_seg3 to genome segment_juncs with Bowtie2 (3/6)\n",
      "[2016-11-01 07:15:03] Mapping left_kept_reads_seg4 to genome segment_juncs with Bowtie2 (4/6)\n",
      "[2016-11-01 07:15:04] Mapping left_kept_reads_seg5 to genome segment_juncs with Bowtie2 (5/6)\n",
      "[2016-11-01 07:15:05] Mapping left_kept_reads_seg6 to genome segment_juncs with Bowtie2 (6/6)\n",
      "[2016-11-01 07:15:06] Joining segment hits\n",
      "[2016-11-01 07:15:13] Reporting output tracks\n",
      "-----------------------------------------------\n",
      "[2016-11-01 07:15:22] A summary of the alignment counts can be found in output/tophat/align_summary.txt\n",
      "[2016-11-01 07:15:22] Run complete: 00:01:48 elapsed\n"
     ]
    }
   ],
   "source": [
    "! tophat -o output/tophat data/tophat_index/index simulated_data/simulated_reads.fa"
   ]
  },
  {
   "cell_type": "code",
   "execution_count": 7,
   "metadata": {
    "collapsed": false
   },
   "outputs": [
    {
     "name": "stdout",
     "output_type": "stream",
     "text": [
      "Reads:\r\n",
      "          Input     :    100000\r\n",
      "           Mapped   :     77541 (77.5% of input)\r\n",
      "            of these:       586 ( 0.8%) have multiple alignments (0 have >20)\r\n",
      "77.5% overall read mapping rate.\r\n"
     ]
    }
   ],
   "source": [
    "%cat output/tophat/align_summary.txt"
   ]
  },
  {
   "cell_type": "markdown",
   "metadata": {},
   "source": [
    "## STAR"
   ]
  },
  {
   "cell_type": "markdown",
   "metadata": {},
   "source": [
    "\"STAR\" ( Spliced transcript alignment to a reference ) algoritam se odvija u dva koraka:\n",
    "\n",
    "1. Traženje ključa \n",
    "\n",
    "2. Grupisanje/ Spajanje/ Rangiranje\n",
    "\n",
    "<i>Slika 4:</i>\n",
    "___\n",
    "​\n",
    "<br>\n",
    "<img src=\"img/STAR.png\" alt=\"Drawing\" style=\"width: 750px;\"/>\n",
    "</br>\n",
    "​\n",
    "___\n",
    "Centralna ideja prve faze je sekvencijala pretraga za maksimalnim prefiksom preklapanja – \"MMP\" ( Maximal Mappable Prefix) . Ako imamo datu sekvencu očitanja (R), lokaciju (i) i sekvencu referentnog genoma (G), onda je \"MMP \"(R, I, G) definisan kao najduži podniz karaktera (Ri, Ri+ 1, … , Ri+MML− 1) koji se preklapa sa jednim ili više podnizova karaktera u G gde je \"MML\" maksimalna dužina preklapanja. Ovaj metod je prikazan na uprošćenom primeru na Slici 4. na primeru očitanje koje ima samo jedno mesto prekrajanja i nema nepodudaranja. U prvom koraku algoritam traži \"MMP\" počevši od prve baze očitanja. Obzirom na to da očitanje ima jedno mesto prekrajanja ono ne može biti mapirano u kontinuitetu na genom stoga će prvi \"ključ\" biti mapiran na mesto prekrajanja donora. Potom sledi ponovna pretraga za \"MMP\"-om za nemapirani deo očitanja koji će u ovom slučaju biti mapiran na mesto prekrajanja akceptora. Ovakva sekvencijalna primena \"MMP\" pretrage samo na nemapirani deo očitanja čini ovaj algoritam jako brzim. Ovaj pristup predstavlja još jedan način za pronalaženje tačnog mesta prekrajanja i u prednosti je nad  metodama u kojima se seče sekvenca očitanja. Mesta prekrajanja se detektuju u jednom prolazu bez ikakvog  preothodnog poznavanja njihove lokacije ili osobina. \"MMP\" pretraga impementirana u \"STAR\" olakšava pronalaženje  višestrukih nepodudaranja i indela. Ukoliko \"MMP\" pretraga ne dopre do kraja očitanja zbog prisustva jednog ili više nepodudaranja \"MMP\"-ovi će služiti kao ključne tačke u genomu, koje se mogu produžiti i dozvoliti poravnanje sa nepoklapanjima. U nekim slučajevima se ovom procedurom neće dobiti adekvatno poravnanje što omogućava identifikaciju poliA repova, sekvenci adaptera korišćenih u biblioteci ...\n",
    "\n",
    "U drugoj fazi algoritma \"STAR\" gradi poravnanje od čitavih sekvenci očitanja tako što povezuje sve \"ključeve\" koji su poravnati na genom u prvoj fazi. Prvo se \"ključevi\" grupišu zajedno u odnosu na odabrani set \"klučeva\". Optimalna procedura za odabir baze je kroz ograničenje broja mesta na genomu na koja se baze mogu mapirati. Svi \"ključevi\" koji se mapiraju unutar definisanog genomskog prozora oko baza se povezuju u celinu pod pretpostavkom lokalnog linearnog modela transkripcije. Veličina genomskog prozora zapravo određuje maksimalnu veličinu introna kod poravnanja sa prazninama. Spajanje parova \"ključeva\" je moguće sa bilo kojim brojem nepodudaranja, ali  samo jedno umetanje ili brisanje je dozvoljeno. Ukoliko poravnanje sa jednom veličinom genomskog  prozora ne prekrije čitavu sekvencu očitanja \"STAR\" pokušava da nađe još jedan ili dva koji će zadovoljiti ovaj kriterijum što rezultuje himernim poravnanjem. Svako himerno poravnanje  se sastoji iz dva segmenta. Svaki  segment sam po sebi nije himeran ali su segmenti himerni jedan u odnosu na drugi( tj. segmenti pripadaju različitim hromozomima ili različitim lancima ili u međusobno jako udaljeni) . Oba segmenta mogu imati mesta prekrajanja i jedan od segmenata može sadržati delove oba partnera. \"STAR\" takođe može naći himerna poravnanja kod kojih je jedan li više segmenata u potpunosti himerno poravnato I tako precizno ukazuje na lokaciju himernog mesta prekrajanja u genomu. \n",
    "\n",
    "Procena kvaliteteta poravnanja kao i njihovo rangiranje se vrši prema  unapred definisanim pragovima za \n",
    "preklapanja, nepodudaranja, brisanja, umatanja… Spajanje se vrši prema rezultatima rangiranja poravnanja. Spojena kombinacija sa najvećim skorom odgovara najboljem poravnanju očitanja. Kada je reč o očitanjima koja su više puta mapirana sva poravnanja sa skorovima u okviru definisanog opsega a koja su ispod najvišeg praga će biti prijavljena.\n"
   ]
  },
  {
   "cell_type": "code",
   "execution_count": 8,
   "metadata": {
    "collapsed": false
   },
   "outputs": [
    {
     "name": "stdout",
     "output_type": "stream",
     "text": [
      "Nov 01 07:17:16 ..... started STAR run\n",
      "Nov 01 07:17:16 ... starting to generate Genome files\n",
      "Nov 01 07:17:18 ... starting to sort Suffix Array. This may take a long time...\n",
      "Nov 01 07:17:19 ... sorting Suffix Array chunks and saving them to disk...\n",
      "Nov 01 07:18:17 ... loading chunks from disk, packing SA...\n",
      "Nov 01 07:18:21 ... finished generating suffix array\n",
      "Nov 01 07:18:21 ... generating Suffix Array index\n",
      "Nov 01 07:18:49 ... completed Suffix Array index\n",
      "Nov 01 07:18:49 ... writing Genome to disk ...\n",
      "Nov 01 07:18:49 ... writing Suffix Array to disk ...\n",
      "Nov 01 07:18:51 ... writing SAindex to disk\n",
      "Nov 01 07:18:58 ..... finished successfully\n"
     ]
    }
   ],
   "source": [
    "! ./bin/STAR --runMode genomeGenerate --genomeDir data/star_index/ --genomeFastaFiles data/chr20.fa --runThreadN 3"
   ]
  },
  {
   "cell_type": "code",
   "execution_count": 9,
   "metadata": {
    "collapsed": false
   },
   "outputs": [
    {
     "name": "stdout",
     "output_type": "stream",
     "text": [
      "Nov 01 07:19:04 ..... started STAR run\n",
      "Nov 01 07:19:04 ..... loading genome\n",
      "Nov 01 07:19:16 ..... started mapping\n",
      "Nov 01 07:19:21 ..... finished successfully\n"
     ]
    }
   ],
   "source": [
    "! ./bin/STAR --runMode alignReads --genomeDir  data/star_index/ --readFilesIn simulated_data/simulated_reads.fa \\\n",
    "    --outFileNamePrefix output/star/ --runThreadN 3"
   ]
  },
  {
   "cell_type": "markdown",
   "metadata": {},
   "source": [
    "## Poređenje rezultata"
   ]
  },
  {
   "cell_type": "code",
   "execution_count": 46,
   "metadata": {
    "collapsed": false
   },
   "outputs": [],
   "source": [
    " #Example\n",
    "\n",
    "d = [\n",
    "    {'aligner': 'TopHat2', 'execution_time': 116, 'false_aligns':false_align_precentage('output/tophat/accepted_hits.bam', 77018), 'mapped_reads':77018},\n",
    "    {'aligner': 'STAR', 'execution_time': 30, 'false_aligns':false_align_precentage('output/star/Aligned.out.sam', 92364), 'mapped_reads':92364}\n",
    "]\n",
    "\n",
    "df = pd.DataFrame(d)\n",
    "df = df.set_index('aligner')"
   ]
  },
  {
   "cell_type": "markdown",
   "metadata": {},
   "source": [
    "Na Grafiku 1. je prikazano vreme izvršavanja koje je preuzeto iz log fajla alata. Vidi se da je \"STAR\" oko četiri puta brži od  \"TopHat2\"-a što je i očekivano zbog toga što \"STAR\" indeks drži u memoriji."
   ]
  },
  {
   "cell_type": "code",
   "execution_count": 47,
   "metadata": {
    "collapsed": false
   },
   "outputs": [
    {
     "data": {
      "image/png": "[encoded data removed]",
      "text/plain": [
       "<matplotlib.figure.Figure at 0x10e920860>"
      ]
     },
     "metadata": {},
     "output_type": "display_data"
    }
   ],
   "source": [
    "time = df.execution_time.plot.bar(figsize=(10, 7), rot=0).set_title('Grafik 1. Vreme izvršavanja')\n",
    "plt.ylabel('Vreme u sekundama')\n",
    "plt.xlabel('Korišćeni alat')\n",
    "plt.show()"
   ]
  },
  {
   "cell_type": "markdown",
   "metadata": {},
   "source": [
    "Na Grafiku 2. je prikazan ukupan broj mapiranih poravnanja ponovo prema podacima preuzetim iz log fajlova alata. \"STAR\" i u ovom aspektu prednjači."
   ]
  },
  {
   "cell_type": "code",
   "execution_count": 48,
   "metadata": {
    "collapsed": false
   },
   "outputs": [
    {
     "data": {
      "image/png": "[encoded data removed]",
      "text/plain": [
       "<matplotlib.figure.Figure at 0x10efeed30>"
      ]
     },
     "metadata": {},
     "output_type": "display_data"
    }
   ],
   "source": [
    "alignment_yeald=df.mapped_reads.plot.bar(figsize=(10,7),rot=0).set_title('Grafik 2. Broj ukupno poravnatih očitanja')\n",
    "plt.ylabel('Broj ukupno poravnatih očitanja')\n",
    "plt.xlabel('Korišćeni alat')\n",
    "plt.show()"
   ]
  },
  {
   "cell_type": "markdown",
   "metadata": {},
   "source": [
    "Pošto su podaci simulirani lokacija svakog očitanja nam je poznata tako da je moguće izračunati procenat pogrešno poravnatih očitanja. Na Grafiku 3. je prikazan ovaj podatak i vidimo da je \"TopHat2\" donekle precizniji međutim čak i kada izbacimo pogrešna poravnanja iz razmatranja \"STAR\" i dalje ima bolji učinak. "
   ]
  },
  {
   "cell_type": "code",
   "execution_count": 49,
   "metadata": {
    "collapsed": false
   },
   "outputs": [
    {
     "data": {
      "image/png": "[encoded data removed]",
      "text/plain": [
       "<matplotlib.figure.Figure at 0x10f0510f0>"
      ]
     },
     "metadata": {},
     "output_type": "display_data"
    }
   ],
   "source": [
    "missmatch = df.false_aligns.plot.bar(figsize=(10, 7), rot=0).set_title('Grafik 3. Procenat pogrešnih poravnanja')\n",
    "plt.ylabel('Pogrešna poravnanja u procentima')\n",
    "plt.xlabel('Korišćeni alat')\n",
    "plt.show()"
   ]
  },
  {
   "cell_type": "markdown",
   "metadata": {},
   "source": [
    "## Zaključak"
   ]
  },
  {
   "cell_type": "markdown",
   "metadata": {},
   "source": [
    "Kako bismo procenili performanse odabranih alata za poravnanje fokusirali smo se na tri parametra: vreme potrebno za izvršenje poravnanja, ukupni procenat mapiranih očitanja i procenat očitanja koja su pogrešno mapirana. STAR se pokazao kao efikasniji u smislu utrošenog  vremena i broj mapiranja je znatno veći. Medjutim, veći procenat očitanja je bio pogrešno mapiran STAR-om u odnosu na TopHat2. Ovo može biti posledica činjenice da smo oba alata koristili u osnovnom modu odnosno bez dodatnih podešavanja parametara."
   ]
  },
  {
   "cell_type": "markdown",
   "metadata": {},
   "source": [
    "## Reference"
   ]
  },
  {
   "cell_type": "code",
   "execution_count": 40,
   "metadata": {
    "collapsed": false
   },
   "outputs": [
    {
     "data": {
      "text/html": [
       "<p>\n",
       "<a id='ref1' href=https://www.ncbi.nlm.nih.gov/pmc/articles/PMC2949280/>1. Wang, Zhong, Mark Gerstein, and Michael Snyder. “RNA-Seq: A Revolutionary Tool for Transcriptomics.” Nature reviews. Genetics 10.1 (2009): 57–63. PMC. Web. 12 Oct. 2016.</a>\n",
       "</p>\n",
       "<p>\n",
       "<a id='ref2' href=http://eu.wiley.com/WileyCDA/WileyTitle/productCd-EHEP002255.html>2. Dale, Jeremy, and Malcolm Von. Schantz. From Genes to Genomes: Concepts and Applications of DNA Technology. Chichester, West Sussex, England: Wiley, 2002. Print.</a>\n",
       "</p>\n",
       "<p>\n",
       "<a id='ref3' href=https://www.ncbi.nlm.nih.gov/pubmed/25001289>3. Benjamin, Ashlee M et al. “Comparing Reference-Based RNA-Seq Mapping Methods for Non-Human Primate Data.” BMC Genomics 15.1 (2014): 570. PMC. Web. 12 Oct. 2016.</a>\n",
       "</p>\n",
       "<p>\n",
       "<a id='ref4' href=https://www.ncbi.nlm.nih.gov/pmc/articles/PMC4053844/>4. Kim, Daehwan et al. “TopHat2: Accurate Alignment of Transcriptomes in the Presence of Insertions, Deletions and Gene Fusions.” Genome Biology 14.4 (2013): R36. PMC. Web. 12 Oct. 2016.</a>\n",
       "</p>\n",
       "<p>\n",
       "<a id='ref5' href=https://www.ncbi.nlm.nih.gov/pmc/articles/PMC3530905/>5. Dobin, Alexander et al. “STAR: Ultrafast Universal RNA-Seq Aligner.” Bioinformatics 29.1 (2013): 15–21. PMC. Web. 12 Oct. 2016.</a>\n",
       "</p>            "
      ],
      "text/plain": [
       "<IPython.core.display.HTML object>"
      ]
     },
     "metadata": {},
     "output_type": "display_data"
    }
   ],
   "source": [
    "%%html\n",
    "<p>\n",
    "<a id='ref1' href=https://www.ncbi.nlm.nih.gov/pmc/articles/PMC2949280/>1. Wang, Zhong, Mark Gerstein, and Michael Snyder. “RNA-Seq: A Revolutionary Tool for Transcriptomics.” Nature reviews. Genetics 10.1 (2009): 57–63. PMC. Web. 12 Oct. 2016.</a>\n",
    "</p>\n",
    "<p>\n",
    "<a id='ref2' href=http://eu.wiley.com/WileyCDA/WileyTitle/productCd-EHEP002255.html>2. Dale, Jeremy, and Malcolm Von. Schantz. From Genes to Genomes: Concepts and Applications of DNA Technology. Chichester, West Sussex, England: Wiley, 2002. Print.</a>\n",
    "</p>\n",
    "<p>\n",
    "<a id='ref3' href=https://www.ncbi.nlm.nih.gov/pubmed/25001289>3. Benjamin, Ashlee M et al. “Comparing Reference-Based RNA-Seq Mapping Methods for Non-Human Primate Data.” BMC Genomics 15.1 (2014): 570. PMC. Web. 12 Oct. 2016.</a>\n",
    "</p>\n",
    "<p>\n",
    "<a id='ref4' href=https://www.ncbi.nlm.nih.gov/pmc/articles/PMC4053844/>4. Kim, Daehwan et al. “TopHat2: Accurate Alignment of Transcriptomes in the Presence of Insertions, Deletions and Gene Fusions.” Genome Biology 14.4 (2013): R36. PMC. Web. 12 Oct. 2016.</a>\n",
    "</p>\n",
    "<p>\n",
    "<a id='ref5' href=https://www.ncbi.nlm.nih.gov/pmc/articles/PMC3530905/>5. Dobin, Alexander et al. “STAR: Ultrafast Universal RNA-Seq Aligner.” Bioinformatics 29.1 (2013): 15–21. PMC. Web. 12 Oct. 2016.</a>\n",
    "</p>            "
   ]
  },
  {
   "cell_type": "code",
   "execution_count": 10,
   "metadata": {
    "collapsed": true
   },
   "outputs": [],
   "source": [
    "sam = pysam.AlignmentFile('output/tophat/accepted_hits.bam', 'r')"
   ]
  },
  {
   "cell_type": "code",
   "execution_count": 13,
   "metadata": {
    "collapsed": false
   },
   "outputs": [
    {
     "name": "stdout",
     "output_type": "stream",
     "text": [
      "simulated_read_40319:68377\t0\t0\t68377\t50\t31M8237N120M\t-1\t-1\t151\tATCTGTGGGTTGCTAACTCGGGTGACCAAAGGTAGCTTTGAACCCCAAAAATGTTGGAAGAATAATGTAGGACATTGCAGAAGACGATGTTTAGATACTGAAAGGTACATACTTCTTTGTAGGAACAAGCTATCATGCTGCATTTCTATAA\tarray('B', [40, 40, 40, 40, 40, 40, 40, 40, 40, 40, 40, 40, 40, 40, 40, 40, 40, 40, 40, 40, 40, 40, 40, 40, 40, 40, 40, 40, 40, 40, 40, 40, 40, 40, 40, 40, 40, 40, 40, 40, 40, 40, 40, 40, 40, 40, 40, 40, 40, 40, 40, 40, 40, 40, 40, 40, 40, 40, 40, 40, 40, 40, 40, 40, 40, 40, 40, 40, 40, 40, 40, 40, 40, 40, 40, 40, 40, 40, 40, 40, 40, 40, 40, 40, 40, 40, 40, 40, 40, 40, 40, 40, 40, 40, 40, 40, 40, 40, 40, 40, 40, 40, 40, 40, 40, 40, 40, 40, 40, 40, 40, 40, 40, 40, 40, 40, 40, 40, 40, 40, 40, 40, 40, 40, 40, 40, 40, 40, 40, 40, 40, 40, 40, 40, 40, 40, 40, 40, 40, 40, 40, 40, 40, 40, 40, 40, 40, 40, 40, 40, 40])\t[('AS', -8), ('XM', 0), ('XO', 0), ('XG', 0), ('MD', '151'), ('NM', 0), ('XS', '+'), ('NH', 1)]\n",
      "simulated_read_82483:76679\t0\t0\t76679\t50\t151M\t-1\t-1\t151\tTGTAGGACATTGCAGAAGACGATGTTTAGATACTGAAAGGTACATACTTCTTTGTAGGAACAAGCTATCATGCTGCATTTCTATAATATCACATGAATATACTCGACGACCAGCATTTCCTGTGATTCACCTAGAGGATATAACATTGGAT\tarray('B', [40, 40, 40, 40, 40, 40, 40, 40, 40, 40, 40, 40, 40, 40, 40, 40, 40, 40, 40, 40, 40, 40, 40, 40, 40, 40, 40, 40, 40, 40, 40, 40, 40, 40, 40, 40, 40, 40, 40, 40, 40, 40, 40, 40, 40, 40, 40, 40, 40, 40, 40, 40, 40, 40, 40, 40, 40, 40, 40, 40, 40, 40, 40, 40, 40, 40, 40, 40, 40, 40, 40, 40, 40, 40, 40, 40, 40, 40, 40, 40, 40, 40, 40, 40, 40, 40, 40, 40, 40, 40, 40, 40, 40, 40, 40, 40, 40, 40, 40, 40, 40, 40, 40, 40, 40, 40, 40, 40, 40, 40, 40, 40, 40, 40, 40, 40, 40, 40, 40, 40, 40, 40, 40, 40, 40, 40, 40, 40, 40, 40, 40, 40, 40, 40, 40, 40, 40, 40, 40, 40, 40, 40, 40, 40, 40, 40, 40, 40, 40, 40, 40])\t[('AS', 0), ('XN', 0), ('XM', 0), ('XO', 0), ('XG', 0), ('NM', 0), ('MD', '151'), ('YT', 'UU'), ('NH', 1)]\n",
      "simulated_read_44379:76698\t0\t0\t76698\t50\t151M\t-1\t-1\t151\tCGATGTTTAGATACTGAAAGGTACATACTTCTTTGTAGGAACAAGCTATCATGCTGCATTTCTATAATATCACATGAATATACTCGACGACCAGCATTTCCTGTGATTCACCTAGAGGATATAACATTGGATTATAGTGATGTGGACTCTT\tarray('B', [40, 40, 40, 40, 40, 40, 40, 40, 40, 40, 40, 40, 40, 40, 40, 40, 40, 40, 40, 40, 40, 40, 40, 40, 40, 40, 40, 40, 40, 40, 40, 40, 40, 40, 40, 40, 40, 40, 40, 40, 40, 40, 40, 40, 40, 40, 40, 40, 40, 40, 40, 40, 40, 40, 40, 40, 40, 40, 40, 40, 40, 40, 40, 40, 40, 40, 40, 40, 40, 40, 40, 40, 40, 40, 40, 40, 40, 40, 40, 40, 40, 40, 40, 40, 40, 40, 40, 40, 40, 40, 40, 40, 40, 40, 40, 40, 40, 40, 40, 40, 40, 40, 40, 40, 40, 40, 40, 40, 40, 40, 40, 40, 40, 40, 40, 40, 40, 40, 40, 40, 40, 40, 40, 40, 40, 40, 40, 40, 40, 40, 40, 40, 40, 40, 40, 40, 40, 40, 40, 40, 40, 40, 40, 40, 40, 40, 40, 40, 40, 40, 40])\t[('AS', 0), ('XN', 0), ('XM', 0), ('XO', 0), ('XG', 0), ('NM', 0), ('MD', '151'), ('YT', 'UU'), ('NH', 1)]\n",
      "simulated_read_84798:76748\t0\t0\t76748\t50\t151M\t-1\t-1\t151\tATGCTGCATTTCTATAATATCACATGAATATACTCGACGACCAGCATTTCCTGTGATTCACCTAGAGGATATAACATTGGATTATAGTGATGTGGACTCTTTTACTGGTTCCCCAGTATCTATGTTGAATGATCTGATAACATTTGACACA\tarray('B', [40, 40, 40, 40, 40, 40, 40, 40, 40, 40, 40, 40, 40, 40, 40, 40, 40, 40, 40, 40, 40, 40, 40, 40, 40, 40, 40, 40, 40, 40, 40, 40, 40, 40, 40, 40, 40, 40, 40, 40, 40, 40, 40, 40, 40, 40, 40, 40, 40, 40, 40, 40, 40, 40, 40, 40, 40, 40, 40, 40, 40, 40, 40, 40, 40, 40, 40, 40, 40, 40, 40, 40, 40, 40, 40, 40, 40, 40, 40, 40, 40, 40, 40, 40, 40, 40, 40, 40, 40, 40, 40, 40, 40, 40, 40, 40, 40, 40, 40, 40, 40, 40, 40, 40, 40, 40, 40, 40, 40, 40, 40, 40, 40, 40, 40, 40, 40, 40, 40, 40, 40, 40, 40, 40, 40, 40, 40, 40, 40, 40, 40, 40, 40, 40, 40, 40, 40, 40, 40, 40, 40, 40, 40, 40, 40, 40, 40, 40, 40, 40, 40])\t[('AS', 0), ('XN', 0), ('XM', 0), ('XO', 0), ('XG', 0), ('NM', 0), ('MD', '151'), ('YT', 'UU'), ('NH', 1)]\n",
      "simulated_read_32462:76761\t0\t0\t76761\t50\t151M\t-1\t-1\t151\tATAATATCACATGAATATACTCGACGACCAGCATTTCCTGTGATTCACCTAGAGGATATAACATTGGATTATAGTGATGTGGACTCTTTTACTGGTTCCCCAGTATCTATGTTGAATGATCTGATAACATTTGACACAACTAAATTTGGAG\tarray('B', [40, 40, 40, 40, 40, 40, 40, 40, 40, 40, 40, 40, 40, 40, 40, 40, 40, 40, 40, 40, 40, 40, 40, 40, 40, 40, 40, 40, 40, 40, 40, 40, 40, 40, 40, 40, 40, 40, 40, 40, 40, 40, 40, 40, 40, 40, 40, 40, 40, 40, 40, 40, 40, 40, 40, 40, 40, 40, 40, 40, 40, 40, 40, 40, 40, 40, 40, 40, 40, 40, 40, 40, 40, 40, 40, 40, 40, 40, 40, 40, 40, 40, 40, 40, 40, 40, 40, 40, 40, 40, 40, 40, 40, 40, 40, 40, 40, 40, 40, 40, 40, 40, 40, 40, 40, 40, 40, 40, 40, 40, 40, 40, 40, 40, 40, 40, 40, 40, 40, 40, 40, 40, 40, 40, 40, 40, 40, 40, 40, 40, 40, 40, 40, 40, 40, 40, 40, 40, 40, 40, 40, 40, 40, 40, 40, 40, 40, 40, 40, 40, 40])\t[('AS', 0), ('XN', 0), ('XM', 0), ('XO', 0), ('XG', 0), ('NM', 0), ('MD', '151'), ('YT', 'UU'), ('NH', 1)]\n",
      "simulated_read_24535:76792\t0\t0\t76792\t50\t151M\t-1\t-1\t151\tCATTTCCTGTGATTCACCTAGAGGATATAACATTGGATTATAGTGATGTGGACTCTTTTACTGGTTCCCCAGTATCTATGTTGAATGATCTGATAACATTTGACACAACTAAATTTGGAGAAACCATGACACCTGAGACCAATACTCCTGA\tarray('B', [40, 40, 40, 40, 40, 40, 40, 40, 40, 40, 40, 40, 40, 40, 40, 40, 40, 40, 40, 40, 40, 40, 40, 40, 40, 40, 40, 40, 40, 40, 40, 40, 40, 40, 40, 40, 40, 40, 40, 40, 40, 40, 40, 40, 40, 40, 40, 40, 40, 40, 40, 40, 40, 40, 40, 40, 40, 40, 40, 40, 40, 40, 40, 40, 40, 40, 40, 40, 40, 40, 40, 40, 40, 40, 40, 40, 40, 40, 40, 40, 40, 40, 40, 40, 40, 40, 40, 40, 40, 40, 40, 40, 40, 40, 40, 40, 40, 40, 40, 40, 40, 40, 40, 40, 40, 40, 40, 40, 40, 40, 40, 40, 40, 40, 40, 40, 40, 40, 40, 40, 40, 40, 40, 40, 40, 40, 40, 40, 40, 40, 40, 40, 40, 40, 40, 40, 40, 40, 40, 40, 40, 40, 40, 40, 40, 40, 40, 40, 40, 40, 40])\t[('AS', 0), ('XN', 0), ('XM', 0), ('XO', 0), ('XG', 0), ('NM', 0), ('MD', '151'), ('YT', 'UU'), ('NH', 1)]\n",
      "simulated_read_46769:76806\t0\t0\t76806\t50\t151M\t-1\t-1\t151\tCACCTAGAGGATATAACATTGGATTATAGTGATGTGGACTCTTTTACTGGTTCCCCAGTATCTATGTTGAATGATCTGATAACATTTGACACAACTAAATTTGGAGAAACCATGACACCTGAGACCAATACTCCTGAGACTACTATGCCAC\tarray('B', [40, 40, 40, 40, 40, 40, 40, 40, 40, 40, 40, 40, 40, 40, 40, 40, 40, 40, 40, 40, 40, 40, 40, 40, 40, 40, 40, 40, 40, 40, 40, 40, 40, 40, 40, 40, 40, 40, 40, 40, 40, 40, 40, 40, 40, 40, 40, 40, 40, 40, 40, 40, 40, 40, 40, 40, 40, 40, 40, 40, 40, 40, 40, 40, 40, 40, 40, 40, 40, 40, 40, 40, 40, 40, 40, 40, 40, 40, 40, 40, 40, 40, 40, 40, 40, 40, 40, 40, 40, 40, 40, 40, 40, 40, 40, 40, 40, 40, 40, 40, 40, 40, 40, 40, 40, 40, 40, 40, 40, 40, 40, 40, 40, 40, 40, 40, 40, 40, 40, 40, 40, 40, 40, 40, 40, 40, 40, 40, 40, 40, 40, 40, 40, 40, 40, 40, 40, 40, 40, 40, 40, 40, 40, 40, 40, 40, 40, 40, 40, 40, 40])\t[('AS', 0), ('XN', 0), ('XM', 0), ('XO', 0), ('XG', 0), ('NM', 0), ('MD', '151'), ('YT', 'UU'), ('NH', 1)]\n",
      "simulated_read_67411:76963\t0\t0\t76963\t50\t151M\t-1\t-1\t151\tAGGCCACTACTCCCGAGACTACTATGCCACCATCTGAGACTGCTACTTCCGAGACTATGCCACCACCTTCTCAGACAGCTCTTACTCATAATTAATTAACATTTACTTCTGGTATGGAACAACTAGAAATACTGCTGGAAATAATATCCAA\tarray('B', [40, 40, 40, 40, 40, 40, 40, 40, 40, 40, 40, 40, 40, 40, 40, 40, 40, 40, 40, 40, 40, 40, 40, 40, 40, 40, 40, 40, 40, 40, 40, 40, 40, 40, 40, 40, 40, 40, 40, 40, 40, 40, 40, 40, 40, 40, 40, 40, 40, 40, 40, 40, 40, 40, 40, 40, 40, 40, 40, 40, 40, 40, 40, 40, 40, 40, 40, 40, 40, 40, 40, 40, 40, 40, 40, 40, 40, 40, 40, 40, 40, 40, 40, 40, 40, 40, 40, 40, 40, 40, 40, 40, 40, 40, 40, 40, 40, 40, 40, 40, 40, 40, 40, 40, 40, 40, 40, 40, 40, 40, 40, 40, 40, 40, 40, 40, 40, 40, 40, 40, 40, 40, 40, 40, 40, 40, 40, 40, 40, 40, 40, 40, 40, 40, 40, 40, 40, 40, 40, 40, 40, 40, 40, 40, 40, 40, 40, 40, 40, 40, 40])\t[('AS', 0), ('XN', 0), ('XM', 0), ('XO', 0), ('XG', 0), ('NM', 0), ('MD', '151'), ('YT', 'UU'), ('NH', 1)]\n",
      "simulated_read_51520:76968\t0\t0\t76968\t50\t151M\t-1\t-1\t151\tACTACTCCCGAGACTACTATGCCACCATCTGAGACTGCTACTTCCGAGACTATGCCACCACCTTCTCAGACAGCTCTTACTCATAATTAATTAACATTTACTTCTGGTATGGAACAACTAGAAATACTGCTGGAAATAATATCCAAAGAGC\tarray('B', [40, 40, 40, 40, 40, 40, 40, 40, 40, 40, 40, 40, 40, 40, 40, 40, 40, 40, 40, 40, 40, 40, 40, 40, 40, 40, 40, 40, 40, 40, 40, 40, 40, 40, 40, 40, 40, 40, 40, 40, 40, 40, 40, 40, 40, 40, 40, 40, 40, 40, 40, 40, 40, 40, 40, 40, 40, 40, 40, 40, 40, 40, 40, 40, 40, 40, 40, 40, 40, 40, 40, 40, 40, 40, 40, 40, 40, 40, 40, 40, 40, 40, 40, 40, 40, 40, 40, 40, 40, 40, 40, 40, 40, 40, 40, 40, 40, 40, 40, 40, 40, 40, 40, 40, 40, 40, 40, 40, 40, 40, 40, 40, 40, 40, 40, 40, 40, 40, 40, 40, 40, 40, 40, 40, 40, 40, 40, 40, 40, 40, 40, 40, 40, 40, 40, 40, 40, 40, 40, 40, 40, 40, 40, 40, 40, 40, 40, 40, 40, 40, 40])\t[('AS', 0), ('XN', 0), ('XM', 0), ('XO', 0), ('XG', 0), ('NM', 0), ('MD', '151'), ('YT', 'UU'), ('NH', 1)]\n",
      "simulated_read_76921:76985\t0\t0\t76985\t50\t151M\t-1\t-1\t151\tTATGCCACCATCTGAGACTGCTACTTCCGAGACTATGCCACCACCTTCTCAGACAGCTCTTACTCATAATTAATTAACATTTACTTCTGGTATGGAACAACTAGAAATACTGCTGGAAATAATATCCAAAGAGCTGATTCTACCAATCCAA\tarray('B', [40, 40, 40, 40, 40, 40, 40, 40, 40, 40, 40, 40, 40, 40, 40, 40, 40, 40, 40, 40, 40, 40, 40, 40, 40, 40, 40, 40, 40, 40, 40, 40, 40, 40, 40, 40, 40, 40, 40, 40, 40, 40, 40, 40, 40, 40, 40, 40, 40, 40, 40, 40, 40, 40, 40, 40, 40, 40, 40, 40, 40, 40, 40, 40, 40, 40, 40, 40, 40, 40, 40, 40, 40, 40, 40, 40, 40, 40, 40, 40, 40, 40, 40, 40, 40, 40, 40, 40, 40, 40, 40, 40, 40, 40, 40, 40, 40, 40, 40, 40, 40, 40, 40, 40, 40, 40, 40, 40, 40, 40, 40, 40, 40, 40, 40, 40, 40, 40, 40, 40, 40, 40, 40, 40, 40, 40, 40, 40, 40, 40, 40, 40, 40, 40, 40, 40, 40, 40, 40, 40, 40, 40, 40, 40, 40, 40, 40, 40, 40, 40, 40])\t[('AS', 0), ('XN', 0), ('XM', 0), ('XO', 0), ('XG', 0), ('NM', 0), ('MD', '151'), ('YT', 'UU'), ('NH', 1)]\n"
     ]
    }
   ],
   "source": [
    "for x in sam.head(10):\n",
    "    print(x)"
   ]
  },
  {
   "cell_type": "code",
   "execution_count": null,
   "metadata": {
    "collapsed": true
   },
   "outputs": [],
   "source": []
  }
 ],
 "metadata": {
  "anaconda-cloud": {},
  "kernelspec": {
   "display_name": "Python [default]",
   "language": "python",
   "name": "python3"
  },
  "language_info": {
   "codemirror_mode": {
    "name": "ipython",
    "version": 3
   },
   "file_extension": ".py",
   "mimetype": "text/x-python",
   "name": "python",
   "nbconvert_exporter": "python",
   "pygments_lexer": "ipython3",
   "version": "3.5.2"
  }
 },
 "nbformat": 4,
 "nbformat_minor": 1
}
